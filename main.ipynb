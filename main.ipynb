{
 "cells": [
  {
   "cell_type": "code",
   "execution_count": 799,
   "metadata": {},
   "outputs": [],
   "source": [
    "import pandas as pd\n",
    "import seaborn as sns\n",
    "import numpy as np\n",
    "import matplotlib.pyplot as plt\n",
    "from sklearn import preprocessing\n",
    "from sklearn.preprocessing import StandardScaler\n",
    "from sklearn.linear_model import LinearRegression, Lasso\n",
    "import xgboost as xgb"
   ]
  },
  {
   "cell_type": "code",
   "execution_count": 800,
   "metadata": {},
   "outputs": [],
   "source": [
    "train = pd.read_csv('data/train.csv')\n",
    "test = pd.read_csv('data/test.csv')"
   ]
  },
  {
   "cell_type": "code",
   "execution_count": 801,
   "metadata": {},
   "outputs": [
    {
     "name": "stdout",
     "output_type": "stream",
     "text": [
      "(1460, 81), (1459, 80)\n"
     ]
    }
   ],
   "source": [
    "print(str(train.shape)+\", \"+str(test.shape))"
   ]
  },
  {
   "cell_type": "code",
   "execution_count": 802,
   "metadata": {},
   "outputs": [
    {
     "data": {
      "text/plain": [
       "(array([148., 723., 373., 135.,  51.,  19.,   4.,   3.,   2.,   2.]),\n",
       " array([ 34900., 106910., 178920., 250930., 322940., 394950., 466960.,\n",
       "        538970., 610980., 682990., 755000.]),\n",
       " <BarContainer object of 10 artists>)"
      ]
     },
     "execution_count": 802,
     "metadata": {},
     "output_type": "execute_result"
    },
    {
     "data": {
      "image/png": "[encoded data removed]",
      "text/plain": [
       "<Figure size 432x288 with 1 Axes>"
      ]
     },
     "metadata": {
      "needs_background": "light"
     },
     "output_type": "display_data"
    }
   ],
   "source": [
    "# Plotting histogram for sale price of homes in the training set\n",
    "plt.hist(train[\"SalePrice\"])"
   ]
  },
  {
   "cell_type": "code",
   "execution_count": 803,
   "metadata": {},
   "outputs": [
    {
     "data": {
      "text/plain": [
       "(array([  5.,  12.,  54., 184., 470., 400., 220.,  90.,  19.,   6.]),\n",
       " array([10.46024211, 10.7676652 , 11.07508829, 11.38251138, 11.68993448,\n",
       "        11.99735757, 12.30478066, 12.61220375, 12.91962684, 13.22704994,\n",
       "        13.53447303]),\n",
       " <BarContainer object of 10 artists>)"
      ]
     },
     "execution_count": 803,
     "metadata": {},
     "output_type": "execute_result"
    },
    {
     "data": {
      "image/png": "[encoded data removed]",
      "text/plain": [
       "<Figure size 432x288 with 1 Axes>"
      ]
     },
     "metadata": {
      "needs_background": "light"
     },
     "output_type": "display_data"
    }
   ],
   "source": [
    "# Skewed but taking logs means that errors in preeicting expensive and cheap houses will have equal effect\n",
    "plt.hist(np.log(train[\"SalePrice\"]))"
   ]
  },
  {
   "cell_type": "code",
   "execution_count": 804,
   "metadata": {},
   "outputs": [],
   "source": [
    "# Checking missing values\n",
    "train.isnull().sum()\n",
    "test.isnull().sum()\n",
    "\n",
    "# Removing feautures with over 700 missing values in either test or train\n",
    "def too_many_missing_values(data):\n",
    "    data.drop([\"Alley\",\"PoolQC\",\"Fence\",\"MiscFeature\",\"FireplaceQu\"], axis = 1,inplace = True)\n",
    "    return data\n",
    "\n",
    "train = too_many_missing_values(train)\n",
    "test = too_many_missing_values(test)"
   ]
  },
  {
   "cell_type": "code",
   "execution_count": 805,
   "metadata": {},
   "outputs": [
    {
     "name": "stdout",
     "output_type": "stream",
     "text": [
      "(1460, 76), (1459, 75)\n"
     ]
    }
   ],
   "source": [
    "print(str(train.shape)+\", \"+str(test.shape))"
   ]
  },
  {
   "cell_type": "code",
   "execution_count": 806,
   "metadata": {},
   "outputs": [],
   "source": [
    "# Filling numeric missing values\n",
    "cols = [\"LotFrontage\",\"GarageYrBlt\",\"MasVnrArea\",\"TotalBsmtSF\",\"BsmtFinSF1\",\"BsmtFinSF2\",\"BsmtUnfSF\",\"BsmtFullBath\",\"BsmtHalfBath\",\"GarageCars\",\"GarageArea\"]\n",
    "def fill_na_numeric(data):\n",
    "    for col in cols:\n",
    "        if col == \"MasVnrArea\" or col == \"TotalBsmtSF\" or col == \"BsmtFinSF1\" or col == \"BsmtFinSF2\" or col == \"BsmtUnfSF\" or col == \"BsmtFullBath\" or col == \"BsmtHalfBath\" or col==\"GarageCars\" or col==\"GarageArea\":\n",
    "            data[col] = data[col].fillna(0)\n",
    "        else:\n",
    "            data[col] = data[col].fillna(data[col].mean())\n",
    "    return data\n",
    "\n",
    "train = fill_na_numeric(train)\n",
    "test = fill_na_numeric(test)"
   ]
  },
  {
   "cell_type": "code",
   "execution_count": 807,
   "metadata": {},
   "outputs": [
    {
     "name": "stdout",
     "output_type": "stream",
     "text": [
      "(1460, 76), (1459, 75)\n"
     ]
    }
   ],
   "source": [
    "print(str(train.shape)+\", \"+str(test.shape))"
   ]
  },
  {
   "cell_type": "code",
   "execution_count": 808,
   "metadata": {},
   "outputs": [],
   "source": [
    "# Filling missing values for the categorical data\n",
    "def fill_na_categorical(data):\n",
    "    object_features = data.select_dtypes(include=['object']).copy()\n",
    "    categorical_features = object_features.columns\n",
    "\n",
    "    for feature in categorical_features:\n",
    "        data[feature] = data[feature].fillna(data[feature].mode()[0])\n",
    "\n",
    "    return data\n",
    "\n",
    "train = fill_na_categorical(train)\n",
    "test = fill_na_categorical(test)"
   ]
  },
  {
   "cell_type": "code",
   "execution_count": 809,
   "metadata": {},
   "outputs": [],
   "source": [
    "# Removing labels from training dataset\n",
    "# Forming train_X and train_y, test_X\n",
    "train_y = np.log(train[\"SalePrice\"])\n",
    "train = train.drop(\"SalePrice\",axis=1)"
   ]
  },
  {
   "cell_type": "code",
   "execution_count": 810,
   "metadata": {},
   "outputs": [
    {
     "name": "stdout",
     "output_type": "stream",
     "text": [
      "(1460, 75), (1459, 75)\n"
     ]
    }
   ],
   "source": [
    "# Now need to encode these categorical features\n",
    "def encode_categorical_non_ordinal(data):\n",
    "\n",
    "    # Specifying the categorical features that have an order\n",
    "    data[\"LotShape\"].replace([\"Reg\", \"IR1\", \"IR2\", \"IR3\"], [0,1,2,3], inplace = True)\n",
    "    data[\"LandContour\"].replace([\"Lvl\", \"Bnk\", \"HLS\", \"Low\"], [0,1,2,3], inplace = True)\n",
    "    data[\"LandSlope\"].replace([\"Gtl\", \"Mod\", \"Sev\"], [0,1,2], inplace = True)\n",
    "    data[\"ExterQual\"].replace([\"Ex\", \"Gd\", \"TA\", \"Fa\", \"Po\"], [0,1,2,3,4], inplace = True)\n",
    "    data[\"ExterCond\"].replace([\"Ex\", \"Gd\", \"TA\", \"Fa\", \"Po\"], [0,1,2,3,4], inplace = True)\n",
    "    data[\"BsmtQual\"].replace([\"Ex\", \"Gd\", \"TA\", \"Fa\", \"Po\",\"NA\"], [0,1,2,3,4,5], inplace = True)\n",
    "    data[\"BsmtCond\"].replace([\"Ex\", \"Gd\", \"TA\", \"Fa\", \"Po\",\"NA\"], [0,1,2,3,4,5], inplace = True)\n",
    "    data[\"BsmtExposure\"].replace([\"Gd\", \"Av\", \"Mn\", \"No\",\"NA\"], [0,1,2,3,4], inplace = True)\n",
    "    data[\"BsmtFinType1\"].replace([\"GLQ\", \"ALQ\", \"BLQ\", \"Rec\",\"LwQ\", \"Unf\", \"NA\"], [0,1,2,3,4,5,6], inplace = True)\n",
    "    data[\"BsmtFinType2\"].replace([\"GLQ\", \"ALQ\", \"BLQ\", \"Rec\",\"LwQ\", \"Unf\", \"NA\"], [0,1,2,3,4,5,6], inplace = True)\n",
    "    data[\"HeatingQC\"].replace([\"Ex\", \"Gd\", \"TA\", \"Fa\", \"Po\"], [0,1,2,3,4], inplace = True)\n",
    "    data[\"KitchenQual\"].replace([\"Ex\", \"Gd\", \"TA\", \"Fa\", \"Po\"], [0,1,2,3,4], inplace = True)\n",
    "    data[\"Functional\"].replace([\"Typ\",\"Min1\", \"Min2\", \"Mod\", \"Maj1\", \"Maj2\", \"Sev\", \"Sal\"], [0,1,2,3,4,5,6,7], inplace = True)\n",
    "    data[\"GarageFinish\"].replace([\"Fin\",\"RFn\",\"Unf\",\"NA\"], [0,1,2,3], inplace = True)\n",
    "    data[\"GarageQual\"].replace([\"Ex\", \"Gd\", \"TA\", \"Fa\", \"Po\",\"NA\"], [0,1,2,3,4,5], inplace = True)\n",
    "    data[\"GarageCond\"].replace([\"Ex\", \"Gd\", \"TA\", \"Fa\", \"Po\",\"NA\"], [0,1,2,3,4,5], inplace = True)\n",
    "\n",
    "    return data\n",
    "\n",
    "train = encode_categorical_non_ordinal(train)\n",
    "test = encode_categorical_non_ordinal(test)\n",
    "\n",
    "# Print shape before one hot encoding to ensure it is the same after\n",
    "print(str(train.shape)+\", \"+str(test.shape))"
   ]
  },
  {
   "cell_type": "code",
   "execution_count": 811,
   "metadata": {},
   "outputs": [
    {
     "name": "stdout",
     "output_type": "stream",
     "text": [
      "(1460, 214), (1459, 214)\n"
     ]
    }
   ],
   "source": [
    "# One hot encoder performed on train+test set combined and then seperated after\n",
    "combined_data = pd.concat([train,test],axis=0)\n",
    "\n",
    "def one_hot_encoder(data):\n",
    "    object_features = data.select_dtypes(include=['object']).copy()\n",
    "    categorical_features = object_features.columns\n",
    "    ordinal_categorical = [\"LotShape\",\"LandContour\",\"LandSlope\",\"ExterQual\",\"ExterCond\",\"BsmtQual\",\"BsmtCond\",\"BsmtExposure\",\"BsmtFinType1\",\"BsmtFinType2\",\"HeatingQC\",\"KitchenQual\",\"Functional\",\"GarageFinish\",\"GarageQual\",\"GarageCond\"]\n",
    "\n",
    "    # One hot encoding for the categorial features that have no order\n",
    "    for feature in categorical_features:\n",
    "        if feature not in ordinal_categorical:\n",
    "            dummy = pd.get_dummies(data[feature],prefix=feature)\n",
    "            data.drop([feature],axis=1,inplace=True)\n",
    "            data = pd.concat([data,dummy],axis=1)\n",
    "\n",
    "    return data\n",
    "\n",
    "combined_data = one_hot_encoder(combined_data)\n",
    "\n",
    "# Splitting back into training and test set\n",
    "train = combined_data.iloc[:1460, :]\n",
    "test = combined_data.iloc[1460:, :]\n",
    "\n",
    "# Checking the train and test shape matched from above\n",
    "print(str(train.shape)+\", \"+str(test.shape))"
   ]
  },
  {
   "cell_type": "code",
   "execution_count": 812,
   "metadata": {},
   "outputs": [],
   "source": [
    "#Saving ID's for training and test before standardization\n",
    "train_id = train[\"Id\"]\n",
    "train = train.drop(\"Id\",axis=1)\n",
    "test_id = test[\"Id\"]\n",
    "test = test.drop(\"Id\",axis=1)"
   ]
  },
  {
   "cell_type": "code",
   "execution_count": 813,
   "metadata": {},
   "outputs": [],
   "source": [
    "# Forming train_X and test_X\n",
    "train_X = train\n",
    "test_X = test\n",
    "\n",
    "# Scaling function\n",
    "def scale_data(data):\n",
    "    scaler = StandardScaler()\n",
    "    scaler.fit(data)\n",
    "    data = pd.DataFrame(scaler.transform(data),columns = data.columns)\n",
    "\n",
    "    return data\n",
    "\n",
    "#Scaling the data\n",
    "train_X = scale_data(train_X)\n",
    "test_X = scale_data(test_X)\n"
   ]
  },
  {
   "cell_type": "code",
   "execution_count": 814,
   "metadata": {},
   "outputs": [],
   "source": [
    "# Lasso Model\n",
    "\n",
    "# Defining and training\n",
    "lasso_model = Lasso(alpha=0.006)\n",
    "lasso_model.fit(train_X,train_y)\n",
    "\n",
    "# Predicting\n",
    "test_y = pd.DataFrame(lasso_model.predict(test_X))\n",
    "\n",
    "# Creating submission file\n",
    "submission_df = test_id\n",
    "submission_df = pd.concat([test_id,np.exp(test_y)],axis=1)\n",
    "submission_df.to_csv('lasso_submission.csv', index = False)"
   ]
  },
  {
   "cell_type": "code",
   "execution_count": 815,
   "metadata": {},
   "outputs": [
    {
     "name": "stderr",
     "output_type": "stream",
     "text": [
      "/Users/olivergibbons/opt/anaconda3/envs/personal_env/lib/python3.10/site-packages/xgboost/data.py:250: FutureWarning: pandas.Int64Index is deprecated and will be removed from pandas in a future version. Use pandas.Index with the appropriate dtype instead.\n",
      "  elif isinstance(data.columns, (pd.Int64Index, pd.RangeIndex)):\n"
     ]
    }
   ],
   "source": [
    "# XGBoost\n",
    "\n",
    "# Defining and training\n",
    "# xgb_model = xgb.XGBRegressor()\n",
    "# xgb_model.fit(train_X,train_y)\n",
    "\n",
    "# # Predicting\n",
    "# test_y = pd.DataFrame(xgb_model.predict(test_X))\n",
    "\n",
    "# # Creating submission file\n",
    "# submission_df = test_id\n",
    "# submission_df = pd.concat([test_id,np.exp(test_y)],axis=1)\n",
    "# submission_df.to_csv('XGB_submission.csv', index = False)"
   ]
  }
 ],
 "metadata": {
  "kernelspec": {
   "display_name": "Python 3.10.4 ('personal_env')",
   "language": "python",
   "name": "python3"
  },
  "language_info": {
   "codemirror_mode": {
    "name": "ipython",
    "version": 3
   },
   "file_extension": ".py",
   "mimetype": "text/x-python",
   "name": "python",
   "nbconvert_exporter": "python",
   "pygments_lexer": "ipython3",
   "version": "3.10.4"
  },
  "orig_nbformat": 4,
  "vscode": {
   "interpreter": {
    "hash": "78a8b5a3ea2127547a2b8c91b596990b73f62bf24e06ace65578b476441f8739"
   }
  }
 },
 "nbformat": 4,
 "nbformat_minor": 2
}
